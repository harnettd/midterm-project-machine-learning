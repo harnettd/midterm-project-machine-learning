{
 "cells": [
  {
   "cell_type": "markdown",
   "metadata": {},
   "source": [
    "# 2 - Model Selection"
   ]
  },
  {
   "cell_type": "markdown",
   "metadata": {},
   "source": [
    "## Import Train-Test Data"
   ]
  },
  {
   "cell_type": "code",
   "execution_count": 1,
   "metadata": {},
   "outputs": [],
   "source": [
    "import numpy as np\n",
    "import pandas as pd"
   ]
  },
  {
   "cell_type": "code",
   "execution_count": 2,
   "metadata": {},
   "outputs": [],
   "source": [
    "dirname = '../data/processed/'\n",
    "X_train = pd.read_csv(dirname + 'X_train_trimmed.csv', sep=',')\n",
    "X_test = pd.read_csv(dirname + 'X_test_trimmed.csv', sep=',')\n",
    "y_train = pd.read_csv(dirname + 'y_train_trimmed.csv', sep=',')\n",
    "y_test = pd.read_csv(dirname + 'y_test_trimmed.csv', sep=',')"
   ]
  },
  {
   "cell_type": "markdown",
   "metadata": {},
   "source": [
    "## Instructions (Delete Later)"
   ]
  },
  {
   "cell_type": "markdown",
   "metadata": {},
   "source": [
    "This notebook should include preliminary and baseline modeling.\n",
    "- Try as many different models as possible.\n",
    "- Don't worry about hyperparameter tuning or cross validation here.\n",
    "- Ideas include:\n",
    "    - linear regression\n",
    "    - support vector machines\n",
    "    - random forest\n",
    "    - xgboost"
   ]
  },
  {
   "cell_type": "code",
   "execution_count": 3,
   "metadata": {},
   "outputs": [],
   "source": [
    "# import models and fit"
   ]
  },
  {
   "cell_type": "markdown",
   "metadata": {},
   "source": [
    "Consider what metrics you want to use to evaluate success.\n",
    "- If you think about mean squared error, can we actually relate to the amount of error?\n",
    "- Try root mean squared error so that error is closer to the original units (dollars)\n",
    "- What does RMSE do to outliers?\n",
    "- Is mean absolute error a good metric for this problem?\n",
    "- What about R^2? Adjusted R^2?\n",
    "- Briefly describe your reasons for picking the metrics you use"
   ]
  },
  {
   "cell_type": "code",
   "execution_count": 4,
   "metadata": {},
   "outputs": [],
   "source": [
    "# gather evaluation metrics and compare results"
   ]
  },
  {
   "cell_type": "markdown",
   "metadata": {},
   "source": [
    "**STRETCH**\n",
    "\n",
    "Even with all the preprocessing we did in Notebook 1, you probably still have a lot of features. Are they all important for prediction?\n",
    "\n",
    "Investigate some feature selection algorithms (Lasso, RFE, Forward/Backward Selection)\n",
    "- Perform feature selection to get a reduced subset of your original features\n",
    "- Refit your models with this reduced dimensionality - how does performance change on your chosen metrics?\n",
    "- Based on this, should you include feature selection in your final pipeline? Explain\n",
    "\n",
    "Remember, feature selection often doesn't directly improve performance, but if performance remains the same, a simpler model is often preferrable. \n",
    "\n"
   ]
  },
  {
   "cell_type": "code",
   "execution_count": 5,
   "metadata": {},
   "outputs": [],
   "source": [
    "# perform feature selection \n",
    "# refit models\n",
    "# gather evaluation metrics and compare to the previous step (full feature set)"
   ]
  },
  {
   "cell_type": "markdown",
   "metadata": {},
   "source": [
    "## Machine Learning"
   ]
  },
  {
   "cell_type": "markdown",
   "metadata": {},
   "source": [
    "### Linear Regression"
   ]
  },
  {
   "cell_type": "code",
   "execution_count": 6,
   "metadata": {},
   "outputs": [],
   "source": [
    "from sklearn.preprocessing import MinMaxScaler\n",
    "from sklearn.linear_model import LinearRegression, Ridge, Lasso\n",
    "\n",
    "from utils import print_scores"
   ]
  },
  {
   "cell_type": "code",
   "execution_count": 7,
   "metadata": {},
   "outputs": [],
   "source": [
    "scaler = MinMaxScaler()\n",
    "\n",
    "X_train_sc = scaler.fit_transform(X_train)\n",
    "X_test_sc = scaler.transform(X_test)"
   ]
  },
  {
   "cell_type": "code",
   "execution_count": 8,
   "metadata": {},
   "outputs": [],
   "source": [
    "def run_regression(\n",
    "    train: [np.array, np.array],\n",
    "    test: [np.array, np.array],\n",
    "    regressor\n",
    "):\n",
    "    \"\"\"\n",
    "    Return a fitted regressor.\n",
    "\n",
    "    Fit the regressor and print out a variety of test score.\n",
    "\n",
    "    :param train: [X_train, y_train]\n",
    "    :param test: [X_test, y_train]\n",
    "    :param regressor: a regression model instance such as LinearRegression()\n",
    "\n",
    "    :return: A fitted regression model\n",
    "    \"\"\"\n",
    "    X_train, y_train = train\n",
    "    X_test, y_test = test\n",
    "\n",
    "    regressor.fit(X_train, y_train)\n",
    "\n",
    "    y_train_pred = regressor.predict(X_train)\n",
    "    y_test_pred = regressor.predict(X_test)\n",
    "\n",
    "    print_scores(\n",
    "        [X_train, y_train, y_train_pred], \n",
    "        [X_test, y_test, y_test_pred]\n",
    "    )\n",
    "\n",
    "    return regressor"
   ]
  },
  {
   "cell_type": "markdown",
   "metadata": {},
   "source": [
    "#### Ordinary Least Squares"
   ]
  },
  {
   "cell_type": "code",
   "execution_count": 9,
   "metadata": {},
   "outputs": [
    {
     "name": "stdout",
     "output_type": "stream",
     "text": [
      "RMSE train: 84306.072648115\n",
      "RMSE test: 82383.26915252862\n",
      "MAE train: 58852.89461247637\n",
      "MAE test: 60265.88377037562\n",
      "R**2 train: 0.7908838665720899\n",
      "R**2 test: 0.8023832535989004\n",
      "Adj R**2 train: 0.7883830756915838\n",
      "Adj R**2 test: 0.7951179320400364\n"
     ]
    }
   ],
   "source": [
    "model = run_regression(\n",
    "    [X_train_sc, y_train],\n",
    "    [X_test_sc, y_test],\n",
    "    LinearRegression()\n",
    ")"
   ]
  },
  {
   "cell_type": "code",
   "execution_count": 10,
   "metadata": {},
   "outputs": [
    {
     "name": "stdout",
     "output_type": "stream",
     "text": [
      "No. features: 50\n",
      "Coefficients: [[ 1.02695840e+05  3.71788522e+04 -6.98590054e+04  1.63272237e+05\n",
      "   4.00223399e+04  5.09517251e+04  1.75747967e+04  2.03306731e+04\n",
      "  -1.04707997e+04  6.72310064e+03  9.86289479e+03  2.17896008e+03\n",
      "   2.43425499e+03  1.28767530e+04 -1.42656053e+04  8.27453448e+03\n",
      "   4.30742772e+03 -8.72488367e+03  2.51463648e+03  6.22532878e+03\n",
      "  -9.58794596e+03  1.92105606e+04  1.48725137e+04  2.48228655e+04\n",
      "  -7.79316072e+03 -2.95062168e+03  6.90489924e+03  2.39859773e+04\n",
      "  -2.01134596e+03 -1.31082433e+04  6.23679452e+04 -6.03458311e+04\n",
      "   7.06829023e+03 -1.30130562e+03  1.16279779e+04  6.73778898e+03\n",
      "  -1.13792422e+04 -6.28795896e+03  1.46516708e+04 -6.13628047e+16\n",
      "  -6.13628047e+16 -6.13628047e+16 -6.13628047e+16 -6.13628047e+16\n",
      "  -6.13628047e+16 -6.13628047e+16 -1.42041686e+17 -1.42041686e+17\n",
      "  -1.42041686e+17  6.85006914e+05]]\n"
     ]
    }
   ],
   "source": [
    "print(f'No. features: {model.n_features_in_}')\n",
    "print(f'Coefficients: {model.coef_}')"
   ]
  },
  {
   "cell_type": "markdown",
   "metadata": {},
   "source": [
    "#### Ridge"
   ]
  },
  {
   "cell_type": "code",
   "execution_count": 11,
   "metadata": {},
   "outputs": [
    {
     "name": "stdout",
     "output_type": "stream",
     "text": [
      "RMSE train: 84384.22424118425\n",
      "RMSE test: 82460.57424595708\n",
      "MAE train: 58826.50023791573\n",
      "MAE test: 60247.919375112724\n",
      "R**2 train: 0.79049598623783\n",
      "R**2 test: 0.8020122086342046\n",
      "Adj R**2 train: 0.7879905567501216\n",
      "Adj R**2 test: 0.7947332457163445\n"
     ]
    }
   ],
   "source": [
    "model = run_regression(\n",
    "    [X_train, y_train],\n",
    "    [X_test, y_test],\n",
    "    Ridge(alpha=10)\n",
    ")"
   ]
  },
  {
   "cell_type": "code",
   "execution_count": 12,
   "metadata": {},
   "outputs": [],
   "source": [
    "X_train_sc = scaler.fit_transform(X_train)\n",
    "X_test_sc = scaler.transform(X_test)"
   ]
  },
  {
   "cell_type": "markdown",
   "metadata": {},
   "source": [
    "#### Lasso"
   ]
  },
  {
   "cell_type": "code",
   "execution_count": 13,
   "metadata": {},
   "outputs": [
    {
     "name": "stdout",
     "output_type": "stream",
     "text": [
      "RMSE train: 84305.76752980656\n",
      "RMSE test: 82382.50237832572\n",
      "MAE train: 58853.41065050963\n",
      "MAE test: 60268.808200501015\n",
      "R**2 train: 0.7908853802245097\n",
      "R**2 test: 0.8023869321787771\n",
      "Adj R**2 train: 0.7883846074455634\n",
      "Adj R**2 test: 0.7951217458618204\n"
     ]
    }
   ],
   "source": [
    "model = run_regression(\n",
    "    [X_train, y_train],\n",
    "    [X_test, y_test],\n",
    "    Lasso(alpha=1)\n",
    ")"
   ]
  },
  {
   "cell_type": "code",
   "execution_count": 14,
   "metadata": {},
   "outputs": [
    {
     "name": "stdout",
     "output_type": "stream",
     "text": [
      "No. features: 50\n",
      "Coefficients: [ 5.38929320e-01  1.99382855e+02 -5.02534831e-04  5.77938934e+01\n",
      "  6.67472956e+03  1.01795851e+04  5.83804302e+03  6.78503042e+03\n",
      " -1.04535826e+04  6.67912366e+03  9.86583387e+03  2.18792610e+03\n",
      "  2.46760912e+03  1.28426460e+04 -1.42543622e+04  8.28510391e+03\n",
      "  4.27206207e+03 -8.73967697e+03  2.49450596e+03  6.19657678e+03\n",
      " -9.58917067e+03  1.92138438e+04  1.48385879e+04  2.48583235e+04\n",
      " -7.78904039e+03 -2.92948185e+03  6.85609590e+03  2.39927229e+04\n",
      " -1.98803261e+03 -1.31295857e+04  6.20413630e+04 -5.99862411e+04\n",
      "  7.03327635e+03 -1.29327824e+03  1.16007676e+04  6.74727895e+03\n",
      " -1.13668145e+04 -6.25545815e+03  1.46490381e+04  0.00000000e+00\n",
      " -2.83349348e+04 -6.99726648e+04  2.12744818e+04  1.07474933e+05\n",
      "  1.88081915e+04 -2.91023911e+04  2.38448304e+01  1.46053731e+04\n",
      " -3.47941017e+03  7.78961139e-01]\n"
     ]
    }
   ],
   "source": [
    "print(f'No. features: {model.n_features_in_}')\n",
    "print(f'Coefficients: {model.coef_}')"
   ]
  },
  {
   "cell_type": "markdown",
   "metadata": {},
   "source": [
    "### Support Vector Machines"
   ]
  },
  {
   "cell_type": "markdown",
   "metadata": {},
   "source": [
    "### Random Forest"
   ]
  },
  {
   "cell_type": "markdown",
   "metadata": {},
   "source": [
    "### XGBoost"
   ]
  },
  {
   "cell_type": "code",
   "execution_count": null,
   "metadata": {},
   "outputs": [],
   "source": []
  }
 ],
 "metadata": {
  "kernelspec": {
   "display_name": "data-science",
   "language": "python",
   "name": "data-science"
  },
  "language_info": {
   "codemirror_mode": {
    "name": "ipython",
    "version": 3
   },
   "file_extension": ".py",
   "mimetype": "text/x-python",
   "name": "python",
   "nbconvert_exporter": "python",
   "pygments_lexer": "ipython3",
   "version": "3.12.2"
  }
 },
 "nbformat": 4,
 "nbformat_minor": 4
}
