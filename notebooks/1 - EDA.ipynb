{
 "cells": [
  {
   "cell_type": "markdown",
   "metadata": {},
   "source": [
    "# Load, Clean, and Preliminary EDA Housing Data"
   ]
  },
  {
   "cell_type": "markdown",
   "metadata": {},
   "source": [
    "## Imports"
   ]
  },
  {
   "cell_type": "code",
   "execution_count": 1,
   "metadata": {},
   "outputs": [],
   "source": [
    "# (this is not an exhaustive list of libraries)\n",
    "import pandas as pd\n",
    "# import numpy as np\n",
    "# import os\n",
    "# import json\n",
    "# from pprint import pprint\n",
    "# from functions_variables import encode_tags\n",
    "\n",
    "from modules.clean_data import get_nearly_empty_columns"
   ]
  },
  {
   "cell_type": "markdown",
   "metadata": {},
   "source": [
    "## Load Data"
   ]
  },
  {
   "cell_type": "markdown",
   "metadata": {},
   "source": [
    "**Delete:**\n",
    "\n",
    "- The os module has a perfect method to list files in a directory.\n",
    "- Pandas json normalize could work here but is not necessary to convert the JSON data to a dataframe.\n",
    "- You may need a nested for-loop to access each sale!\n",
    "- We've put a lot of time into creating the structure of this repository, and it's a good example for future projects.  In the file functions_variables.py, there is an example function that you can import and use.  If you have any variables, functions or classes that you want to make, they can be put in the functions_variables.py file and imported into a notebook.  Note that only .py files can be imported into a notebook. If you want to import everything from a .py file, you can use the following:\n",
    "```python\n",
    "from functions_variables import *\n",
    "```\n",
    "If you just import functions_variables, then each object from the file will need to be prepended with \"functions_variables\"\\\n",
    "Using this .py file will keep your notebooks very organized and make it easier to reuse code between notebooks."
   ]
  },
  {
   "cell_type": "markdown",
   "metadata": {},
   "source": [
    "The Python script `modules/load_data.py` was used to load housing data from the JSON files in `data/raw`, generate a DataFrame, and export the DataFrame to a CSV file, `data/processed/housing_data_0.csv`. The script loops through all JSON files, parsing them for information concerning a house's sale price, sale date, description, location, tags, and flags."
   ]
  },
  {
   "cell_type": "markdown",
   "metadata": {},
   "source": [
    "Get started by loading `data/processed/housing_data_0.csv`."
   ]
  },
  {
   "cell_type": "code",
   "execution_count": 2,
   "metadata": {},
   "outputs": [
    {
     "name": "stderr",
     "output_type": "stream",
     "text": [
      "/tmp/ipykernel_1836926/1944719485.py:4: DtypeWarning: Columns (191,192) have mixed types. Specify dtype option on import or set low_memory=False.\n",
      "  df = pd.read_csv(filename, sep=',')\n"
     ]
    },
    {
     "data": {
      "text/plain": [
       "(8159, 193)"
      ]
     },
     "execution_count": 2,
     "metadata": {},
     "output_type": "execute_result"
    }
   ],
   "source": [
    "dirname = '../data/processed/'\n",
    "basename = 'housing_data_0.csv'\n",
    "filename = dirname + basename\n",
    "df = pd.read_csv(filename, sep=',')\n",
    "df.shape"
   ]
  },
  {
   "cell_type": "markdown",
   "metadata": {},
   "source": [
    "## Clean Data"
   ]
  },
  {
   "cell_type": "markdown",
   "metadata": {},
   "source": [
    "At this point, ensure that you have all sales in a dataframe.\n",
    "- Is each cell one value, or do some cells have lists?\n",
    "- Maybe the \"tags\" will help create some features.\n",
    "- What are the data types of each column?\n",
    "- Some sales may not actually include the sale price.  These rows should be dropped.\n",
    "- Some sales don't include the property type.\n",
    "- There are a lot of None values.  Should these be dropped or replaced with something?"
   ]
  },
  {
   "cell_type": "markdown",
   "metadata": {},
   "source": [
    "The loaded housing DataFrame contains a lot of columns, many of which are filled with missing information. Some of the columns are irrelevant or redundant and some rows are missing a sale price. In this section, we formulate and implement data cleaning steps."
   ]
  },
  {
   "cell_type": "markdown",
   "metadata": {},
   "source": [
    "### Identify Nearly-Empty Columns"
   ]
  },
  {
   "cell_type": "code",
   "execution_count": 3,
   "metadata": {},
   "outputs": [],
   "source": [
    "cols_to_drop = []  # a running list of columns to drop"
   ]
  },
  {
   "cell_type": "markdown",
   "metadata": {},
   "source": [
    "We identify columns that are at least 95% empty and flag them to be dropped."
   ]
  },
  {
   "cell_type": "code",
   "execution_count": 4,
   "metadata": {},
   "outputs": [],
   "source": [
    "cols_to_drop.extend(get_nearly_empty_columns(df))"
   ]
  },
  {
   "cell_type": "markdown",
   "metadata": {},
   "source": [
    "### Identify Irrelevant/Redundant Columns"
   ]
  },
  {
   "cell_type": "markdown",
   "metadata": {},
   "source": [
    "We identify columns that are irrelevant to the sale price of a house and flag them to be dropped."
   ]
  },
  {
   "cell_type": "code",
   "execution_count": 5,
   "metadata": {},
   "outputs": [],
   "source": [
    "cols_to_drop.extend(['property_id', 'listing_id'])"
   ]
  },
  {
   "cell_type": "markdown",
   "metadata": {},
   "source": [
    "There are several columns that contain redundant information. We flag them to be dropped."
   ]
  },
  {
   "cell_type": "code",
   "execution_count": 6,
   "metadata": {},
   "outputs": [
    {
     "name": "stdout",
     "output_type": "stream",
     "text": [
      "1\n"
     ]
    }
   ],
   "source": [
    "print(df['status'].nunique())\n",
    "cols_to_drop.append('status')"
   ]
  },
  {
   "cell_type": "code",
   "execution_count": 7,
   "metadata": {},
   "outputs": [
    {
     "name": "stdout",
     "output_type": "stream",
     "text": [
      "1\n"
     ]
    }
   ],
   "source": [
    "print(df['is_new_listing'].fillna(False).nunique())\n",
    "cols_to_drop.append('is_new_listing')"
   ]
  },
  {
   "cell_type": "code",
   "execution_count": 8,
   "metadata": {},
   "outputs": [
    {
     "name": "stdout",
     "output_type": "stream",
     "text": [
      "      baths_3qtr  baths_full  baths_half  baths ensuite\n",
      "6873         NaN         6.0         NaN    6.0     NaN\n",
      "4542         NaN         1.0         NaN    1.0     NaN\n",
      "6630         NaN         2.0         NaN    2.0     NaN\n",
      "3837         NaN         2.0         NaN    2.0     NaN\n",
      "4503         NaN         2.0         NaN    2.0     NaN\n"
     ]
    }
   ],
   "source": [
    "cols = ['baths_3qtr', 'baths_full', 'baths_half', 'baths', 'ensuite'] \n",
    "print(df[cols].sample(5))\n",
    "\n",
    "cols_to_drop.extend(['baths_3qtr', 'baths_full', 'baths_half'])"
   ]
  },
  {
   "cell_type": "code",
   "execution_count": 9,
   "metadata": {},
   "outputs": [
    {
     "name": "stdout",
     "output_type": "stream",
     "text": [
      "      garage garage_1_or_more garage_2_or_more garage_3_or_more carport\n",
      "1194     2.0             True             True              NaN     NaN\n",
      "5587     NaN              NaN              NaN              NaN     NaN\n",
      "540      NaN              NaN              NaN              NaN     NaN\n",
      "7003     NaN              NaN              NaN              NaN     NaN\n",
      "5046     NaN              NaN              NaN              NaN     NaN\n"
     ]
    }
   ],
   "source": [
    "cols = ['garage', 'garage_1_or_more', 'garage_2_or_more', 'garage_3_or_more', 'carport']\n",
    "print(df[cols].sample(5))\n",
    "\n",
    "cols_to_drop.extend(['garage_1_or_more', 'garage_2_or_more', 'garage_3_or_more'])"
   ]
  },
  {
   "cell_type": "code",
   "execution_count": 10,
   "metadata": {},
   "outputs": [
    {
     "name": "stdout",
     "output_type": "stream",
     "text": [
      "      stories single_story two_or_more_stories\n",
      "2298      1.0         True                 NaN\n",
      "3888      NaN          NaN                 NaN\n",
      "4283      2.0          NaN                True\n",
      "2262      1.0         True                 NaN\n",
      "5179      2.0          NaN                True\n"
     ]
    }
   ],
   "source": [
    "cols = ['stories', 'single_story', 'two_or_more_stories']\n",
    "print(df[cols].sample(5))\n",
    "\n",
    "cols_to_drop.extend(['single_story', 'two_or_more_stories'])"
   ]
  },
  {
   "cell_type": "code",
   "execution_count": 11,
   "metadata": {},
   "outputs": [
    {
     "name": "stdout",
     "output_type": "stream",
     "text": [
      "               type   sub_type\n",
      "1416  single_family        NaN\n",
      "4204  single_family        NaN\n",
      "3818           land        NaN\n",
      "775          condos      condo\n",
      "3645      townhomes  townhouse\n"
     ]
    }
   ],
   "source": [
    "cols = ['type', 'sub_type']\n",
    "print(df[cols].sample(5))\n",
    "\n",
    "cols_to_drop.append('sub_type')"
   ]
  },
  {
   "cell_type": "code",
   "execution_count": 12,
   "metadata": {},
   "outputs": [],
   "source": [
    "cols = ['price_reduced_amount', 'is_price_reduced']\n",
    "df[cols].sample(5)\n",
    "\n",
    "cols_to_drop.append('is_price_reduced')"
   ]
  },
  {
   "cell_type": "markdown",
   "metadata": {},
   "source": [
    "We consider geographical data."
   ]
  },
  {
   "cell_type": "code",
   "execution_count": 13,
   "metadata": {},
   "outputs": [
    {
     "name": "stdout",
     "output_type": "stream",
     "text": [
      "<class 'pandas.core.frame.DataFrame'>\n",
      "RangeIndex: 8159 entries, 0 to 8158\n",
      "Data columns (total 5 columns):\n",
      " #   Column       Non-Null Count  Dtype  \n",
      "---  ------       --------------  -----  \n",
      " 0   city         8154 non-null   object \n",
      " 1   state        8159 non-null   object \n",
      " 2   postal_code  8159 non-null   int64  \n",
      " 3   lat          7909 non-null   float64\n",
      " 4   lon          7909 non-null   float64\n",
      "dtypes: float64(2), int64(1), object(2)\n",
      "memory usage: 318.8+ KB\n"
     ]
    }
   ],
   "source": [
    "cols = ['city', 'state', 'postal_code', 'lat', 'lon']\n",
    "df[cols].info()"
   ]
  },
  {
   "cell_type": "markdown",
   "metadata": {},
   "source": [
    "We keep the `city` and `postal_code` columns. "
   ]
  },
  {
   "cell_type": "code",
   "execution_count": 14,
   "metadata": {},
   "outputs": [],
   "source": [
    "cols_to_drop.extend(['state', 'lat', 'lon'])"
   ]
  },
  {
   "cell_type": "code",
   "execution_count": 15,
   "metadata": {},
   "outputs": [
    {
     "name": "stdout",
     "output_type": "stream",
     "text": [
      "      views   view  hill_or_mountain_view  city_view  big_yard  fenced_yard  \\\n",
      "376   False  False                  False      False     False        False   \n",
      "1883  False   True                  False       True     False        False   \n",
      "4220   True   True                  False      False     False        False   \n",
      "3805   True   True                   True      False     False        False   \n",
      "5517  False  False                  False      False     False        False   \n",
      "\n",
      "      front_porch  groundscare   farm  ranch  \n",
      "376         False        False  False  False  \n",
      "1883        False        False  False  False  \n",
      "4220        False        False  False  False  \n",
      "3805        False        False  False  False  \n",
      "5517        False        False  False  False  \n"
     ]
    }
   ],
   "source": [
    "cols = [\n",
    "    'views', 'view', 'hill_or_mountain_view', 'city_view',\n",
    "    'big_yard', 'fenced_yard', 'front_porch',\n",
    "    'groundscare', 'farm', 'ranch', \n",
    "]\n",
    "print(df[cols].fillna(False).sample(5))\n",
    "\n",
    "cols_to_drop.extend([\n",
    "    'views', 'hill_or_mountain_view', \n",
    "    'city_view', 'big_yard'\n",
    "])"
   ]
  },
  {
   "cell_type": "markdown",
   "metadata": {},
   "source": [
    "#### Drop Irrelevant/Redundant Columns"
   ]
  },
  {
   "cell_type": "code",
   "execution_count": 16,
   "metadata": {},
   "outputs": [
    {
     "name": "stdout",
     "output_type": "stream",
     "text": [
      "<class 'pandas.core.frame.DataFrame'>\n",
      "RangeIndex: 8159 entries, 0 to 8158\n",
      "Data columns (total 50 columns):\n",
      " #   Column                       Non-Null Count  Dtype  \n",
      "---  ------                       --------------  -----  \n",
      " 0   list_date                    7752 non-null   object \n",
      " 1   price_reduced_amount         2484 non-null   float64\n",
      " 2   year_built                   7316 non-null   float64\n",
      " 3   sold_date                    8159 non-null   object \n",
      " 4   sold_price                   6716 non-null   float64\n",
      " 5   lot_sqft                     6991 non-null   float64\n",
      " 6   sqft                         7323 non-null   float64\n",
      " 7   baths                        7980 non-null   float64\n",
      " 8   garage                       4448 non-null   float64\n",
      " 9   stories                      6260 non-null   float64\n",
      " 10  beds                         7504 non-null   float64\n",
      " 11  type                         8125 non-null   object \n",
      " 12  postal_code                  8159 non-null   int64  \n",
      " 13  city                         8154 non-null   object \n",
      " 14  central_air                  4229 non-null   object \n",
      " 15  central_heat                 1496 non-null   object \n",
      " 16  fireplace                    3426 non-null   object \n",
      " 17  rental_property              901 non-null    object \n",
      " 18  community_outdoor_space      3585 non-null   object \n",
      " 19  energy_efficient             521 non-null    object \n",
      " 20  community_security_features  1615 non-null   object \n",
      " 21  recreation_facilities        1942 non-null   object \n",
      " 22  carport                      610 non-null    object \n",
      " 23  dishwasher                   3704 non-null   object \n",
      " 24  washer_dryer                 2252 non-null   object \n",
      " 25  big_lot                      1029 non-null   object \n",
      " 26  laundry_room                 2248 non-null   object \n",
      " 27  floor_plan                   1057 non-null   object \n",
      " 28  ensuite                      711 non-null    object \n",
      " 29  shopping                     1894 non-null   object \n",
      " 30  hardwood_floors              2476 non-null   object \n",
      " 31  high_ceiling                 519 non-null    object \n",
      " 32  community_swimming_pool      779 non-null    object \n",
      " 33  modern_kitchen               579 non-null    object \n",
      " 34  open_floor_plan              607 non-null    object \n",
      " 35  fenced_yard                  1122 non-null   object \n",
      " 36  new_roof                     849 non-null    object \n",
      " 37  front_porch                  436 non-null    object \n",
      " 38  groundscare                  465 non-null    object \n",
      " 39  basement                     3363 non-null   object \n",
      " 40  updated_kitchen              792 non-null    object \n",
      " 41  corner_lot                   657 non-null    object \n",
      " 42  farm                         666 non-null    object \n",
      " 43  park                         547 non-null    object \n",
      " 44  ranch                        585 non-null    object \n",
      " 45  trails                       578 non-null    object \n",
      " 46  forced_air                   3207 non-null   object \n",
      " 47  dining_room                  1450 non-null   object \n",
      " 48  family_room                  1186 non-null   object \n",
      " 49  view                         1602 non-null   object \n",
      "dtypes: float64(9), int64(1), object(40)\n",
      "memory usage: 3.1+ MB\n"
     ]
    }
   ],
   "source": [
    "df = df.drop(columns=cols_to_drop)\n",
    "df.info()"
   ]
  },
  {
   "cell_type": "markdown",
   "metadata": {},
   "source": [
    "### Identify Rows Without Sales Price"
   ]
  },
  {
   "cell_type": "markdown",
   "metadata": {},
   "source": [
    "There are rows that are missing a sale price. As house sale price will serve as the target in the upcoming machine learning analysis, we drop the rows in question."
   ]
  },
  {
   "cell_type": "code",
   "execution_count": 22,
   "metadata": {},
   "outputs": [],
   "source": [
    "filter = df['sold_price'].isna()\n",
    "rows_to_drop = df.loc[filter, :].index.to_list()"
   ]
  },
  {
   "cell_type": "markdown",
   "metadata": {},
   "source": []
  },
  {
   "cell_type": "code",
   "execution_count": 23,
   "metadata": {},
   "outputs": [
    {
     "name": "stdout",
     "output_type": "stream",
     "text": [
      "<class 'pandas.core.frame.DataFrame'>\n",
      "Index: 6716 entries, 0 to 8158\n",
      "Data columns (total 50 columns):\n",
      " #   Column                       Non-Null Count  Dtype  \n",
      "---  ------                       --------------  -----  \n",
      " 0   list_date                    6429 non-null   object \n",
      " 1   price_reduced_amount         2010 non-null   float64\n",
      " 2   year_built                   6041 non-null   float64\n",
      " 3   sold_date                    6716 non-null   object \n",
      " 4   sold_price                   6716 non-null   float64\n",
      " 5   lot_sqft                     5794 non-null   float64\n",
      " 6   sqft                         6061 non-null   float64\n",
      " 7   baths                        6566 non-null   float64\n",
      " 8   garage                       3485 non-null   float64\n",
      " 9   stories                      5099 non-null   float64\n",
      " 10  beds                         6223 non-null   float64\n",
      " 11  type                         6696 non-null   object \n",
      " 12  postal_code                  6716 non-null   int64  \n",
      " 13  city                         6711 non-null   object \n",
      " 14  central_air                  3415 non-null   object \n",
      " 15  central_heat                 1088 non-null   object \n",
      " 16  fireplace                    2743 non-null   object \n",
      " 17  rental_property              732 non-null    object \n",
      " 18  community_outdoor_space      3117 non-null   object \n",
      " 19  energy_efficient             471 non-null    object \n",
      " 20  community_security_features  1309 non-null   object \n",
      " 21  recreation_facilities        1515 non-null   object \n",
      " 22  carport                      436 non-null    object \n",
      " 23  dishwasher                   2975 non-null   object \n",
      " 24  washer_dryer                 1839 non-null   object \n",
      " 25  big_lot                      821 non-null    object \n",
      " 26  laundry_room                 1834 non-null   object \n",
      " 27  floor_plan                   814 non-null    object \n",
      " 28  ensuite                      579 non-null    object \n",
      " 29  shopping                     1600 non-null   object \n",
      " 30  hardwood_floors              2185 non-null   object \n",
      " 31  high_ceiling                 391 non-null    object \n",
      " 32  community_swimming_pool      598 non-null    object \n",
      " 33  modern_kitchen               460 non-null    object \n",
      " 34  open_floor_plan              459 non-null    object \n",
      " 35  fenced_yard                  993 non-null    object \n",
      " 36  new_roof                     747 non-null    object \n",
      " 37  front_porch                  400 non-null    object \n",
      " 38  groundscare                  335 non-null    object \n",
      " 39  basement                     2936 non-null   object \n",
      " 40  updated_kitchen              675 non-null    object \n",
      " 41  corner_lot                   517 non-null    object \n",
      " 42  farm                         572 non-null    object \n",
      " 43  park                         422 non-null    object \n",
      " 44  ranch                        501 non-null    object \n",
      " 45  trails                       372 non-null    object \n",
      " 46  forced_air                   2711 non-null   object \n",
      " 47  dining_room                  1359 non-null   object \n",
      " 48  family_room                  1019 non-null   object \n",
      " 49  view                         1309 non-null   object \n",
      "dtypes: float64(9), int64(1), object(40)\n",
      "memory usage: 2.6+ MB\n"
     ]
    }
   ],
   "source": [
    "df.drop(index=rows_to_drop).info()"
   ]
  },
  {
   "cell_type": "markdown",
   "metadata": {},
   "source": [
    "### Identify Imputation Values"
   ]
  },
  {
   "cell_type": "markdown",
   "metadata": {},
   "source": [
    "### Identify Suitable dtypes"
   ]
  },
  {
   "cell_type": "markdown",
   "metadata": {},
   "source": [
    "### Implement Cleaning"
   ]
  },
  {
   "cell_type": "markdown",
   "metadata": {},
   "source": [
    "## Feature Engineering"
   ]
  },
  {
   "cell_type": "markdown",
   "metadata": {},
   "source": [
    "Consider the fact that with tags, there are a lot of categorical variables.\n",
    "- How many columns would we have if we OHE tags, city and state?\n",
    "- Perhaps we can get rid of tags that have a low frequency."
   ]
  },
  {
   "cell_type": "code",
   "execution_count": 17,
   "metadata": {},
   "outputs": [],
   "source": [
    "# OHE categorical variables here\n",
    "# tags will have to be done manually"
   ]
  },
  {
   "cell_type": "markdown",
   "metadata": {},
   "source": [
    "- Sales will vary drastically between cities and states.  Is there a way to keep information about which city it is without OHE such as using central tendency?\n",
    "- Could we label encode or ordinal encode?  Yes, but this may have undesirable effects, giving nominal data ordinal values.\n",
    "- If you replace cities or states with numerical values, make sure that the data is split so that we don't leak data into the training selection. This is a great time to train test split. Compute on the training data, and join these values to the test data\n",
    "- Drop columns that aren't needed.\n",
    "- Don't keep the list price because it will be too close to the sale price."
   ]
  },
  {
   "cell_type": "code",
   "execution_count": 18,
   "metadata": {},
   "outputs": [],
   "source": [
    "# perform train test split here\n",
    "# do something with state and city\n",
    "# drop any other not needed columns"
   ]
  },
  {
   "cell_type": "markdown",
   "metadata": {},
   "source": [
    "**STRETCH**\n",
    "\n",
    "- You're not limited to just using the data provided to you. Think/ do some research about other features that might be useful to predict housing prices. \n",
    "- Can you import and join this data? Make sure you do any necessary preprocessing and make sure it is joined correctly.\n",
    "- Example suggestion: could mortgage interest rates in the year of the listing affect the price? "
   ]
  },
  {
   "cell_type": "code",
   "execution_count": 19,
   "metadata": {},
   "outputs": [],
   "source": [
    "# import, join and preprocess new data here"
   ]
  },
  {
   "cell_type": "markdown",
   "metadata": {},
   "source": [
    "Remember all of the EDA that you've been learning about?  Now is a perfect time for it!\n",
    "- Look at distributions of numerical variables to see the shape of the data and detect outliers.\n",
    "- Scatterplots of a numerical variable and the target go a long way to show correlations.\n",
    "- A heatmap will help detect highly correlated features, and we don't want these.\n",
    "- Is there any overlap in any of the features? (redundant information, like number of this or that room...)"
   ]
  },
  {
   "cell_type": "code",
   "execution_count": 20,
   "metadata": {},
   "outputs": [],
   "source": [
    "# perform EDA here"
   ]
  },
  {
   "cell_type": "markdown",
   "metadata": {},
   "source": [
    "Now is a great time to scale the data and save it once it's preprocessed.\n",
    "- You can save it in your data folder, but you may want to make a new `processed/` subfolder to keep it organized"
   ]
  },
  {
   "cell_type": "code",
   "execution_count": null,
   "metadata": {},
   "outputs": [],
   "source": []
  }
 ],
 "metadata": {
  "kernelspec": {
   "display_name": "data-science",
   "language": "python",
   "name": "data-science"
  },
  "language_info": {
   "codemirror_mode": {
    "name": "ipython",
    "version": 3
   },
   "file_extension": ".py",
   "mimetype": "text/x-python",
   "name": "python",
   "nbconvert_exporter": "python",
   "pygments_lexer": "ipython3",
   "version": "3.12.2"
  }
 },
 "nbformat": 4,
 "nbformat_minor": 4
}
