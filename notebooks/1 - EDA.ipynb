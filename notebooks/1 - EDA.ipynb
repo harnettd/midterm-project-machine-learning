{
 "cells": [
  {
   "cell_type": "markdown",
   "metadata": {},
   "source": [
    "# Load, Clean, and Preliminary EDA Housing Data"
   ]
  },
  {
   "cell_type": "markdown",
   "metadata": {},
   "source": [
    "## Imports"
   ]
  },
  {
   "cell_type": "code",
   "execution_count": 1,
   "metadata": {},
   "outputs": [],
   "source": [
    "# (this is not an exhaustive list of libraries)\n",
    "import pandas as pd\n",
    "# import numpy as np\n",
    "# import os\n",
    "# import json\n",
    "# from pprint import pprint\n",
    "# from functions_variables import encode_tags\n",
    "\n",
    "from clean_data import get_nearly_empty_columns, or_merge"
   ]
  },
  {
   "cell_type": "markdown",
   "metadata": {},
   "source": [
    "## Load Data"
   ]
  },
  {
   "cell_type": "markdown",
   "metadata": {},
   "source": [
    "**Delete:**\n",
    "\n",
    "- The os module has a perfect method to list files in a directory.\n",
    "- Pandas json normalize could work here but is not necessary to convert the JSON data to a dataframe.\n",
    "- You may need a nested for-loop to access each sale!\n",
    "- We've put a lot of time into creating the structure of this repository, and it's a good example for future projects.  In the file functions_variables.py, there is an example function that you can import and use.  If you have any variables, functions or classes that you want to make, they can be put in the functions_variables.py file and imported into a notebook.  Note that only .py files can be imported into a notebook. If you want to import everything from a .py file, you can use the following:\n",
    "```python\n",
    "from functions_variables import *\n",
    "```\n",
    "If you just import functions_variables, then each object from the file will need to be prepended with \"functions_variables\"\\\n",
    "Using this .py file will keep your notebooks very organized and make it easier to reuse code between notebooks."
   ]
  },
  {
   "cell_type": "markdown",
   "metadata": {},
   "source": [
    "The Python script `modules/load_data.py` was used to load housing data from the JSON files in `data/raw`, generate a DataFrame, and export the DataFrame to a CSV file, `data/processed/housing_data_0.csv`. The script loops through all JSON files, parsing them for information concerning a house's sale price, sale date, description, location, tags, and flags."
   ]
  },
  {
   "cell_type": "markdown",
   "metadata": {},
   "source": [
    "Get started by loading `data/processed/housing_data_0.csv`."
   ]
  },
  {
   "cell_type": "code",
   "execution_count": 2,
   "metadata": {},
   "outputs": [
    {
     "name": "stderr",
     "output_type": "stream",
     "text": [
      "/tmp/ipykernel_1973731/1944719485.py:4: DtypeWarning: Columns (191,192) have mixed types. Specify dtype option on import or set low_memory=False.\n",
      "  df = pd.read_csv(filename, sep=',')\n"
     ]
    },
    {
     "data": {
      "text/plain": [
       "(8159, 193)"
      ]
     },
     "execution_count": 2,
     "metadata": {},
     "output_type": "execute_result"
    }
   ],
   "source": [
    "dirname = '../data/processed/'\n",
    "basename = 'housing_data_0.csv'\n",
    "filename = dirname + basename\n",
    "df = pd.read_csv(filename, sep=',')\n",
    "df.shape"
   ]
  },
  {
   "cell_type": "markdown",
   "metadata": {},
   "source": [
    "## Clean Data"
   ]
  },
  {
   "cell_type": "markdown",
   "metadata": {},
   "source": [
    "At this point, ensure that you have all sales in a dataframe.\n",
    "- Is each cell one value, or do some cells have lists?\n",
    "- Maybe the \"tags\" will help create some features.\n",
    "- What are the data types of each column?\n",
    "- Some sales may not actually include the sale price.  These rows should be dropped.\n",
    "- Some sales don't include the property type.\n",
    "- There are a lot of None values.  Should these be dropped or replaced with something?"
   ]
  },
  {
   "cell_type": "markdown",
   "metadata": {},
   "source": [
    "The loaded housing DataFrame contains a lot of columns, many of which are filled with missing information. Some of the columns are irrelevant or redundant and some rows are missing a sale price. In this section, we formulate and implement data cleaning steps."
   ]
  },
  {
   "cell_type": "markdown",
   "metadata": {},
   "source": [
    "### Identify Nearly-Empty Columns"
   ]
  },
  {
   "cell_type": "code",
   "execution_count": 3,
   "metadata": {},
   "outputs": [],
   "source": [
    "cols_to_drop = []  # a running list of columns to drop"
   ]
  },
  {
   "cell_type": "markdown",
   "metadata": {},
   "source": [
    "We identify columns that are at least 95% empty and flag them to be dropped."
   ]
  },
  {
   "cell_type": "code",
   "execution_count": 4,
   "metadata": {},
   "outputs": [],
   "source": [
    "cols_to_drop.extend(get_nearly_empty_columns(df))"
   ]
  },
  {
   "cell_type": "markdown",
   "metadata": {},
   "source": [
    "### Identify Irrelevant/Redundant Columns"
   ]
  },
  {
   "cell_type": "markdown",
   "metadata": {},
   "source": [
    "We identify columns that are irrelevant to the sale price of a house and flag them to be dropped."
   ]
  },
  {
   "cell_type": "code",
   "execution_count": 5,
   "metadata": {},
   "outputs": [],
   "source": [
    "cols_to_drop.extend(['list_date', 'property_id', 'listing_id'])"
   ]
  },
  {
   "cell_type": "markdown",
   "metadata": {},
   "source": [
    "There are several columns that contain redundant information. In the following, we identify them and flag them to be dropped."
   ]
  },
  {
   "cell_type": "code",
   "execution_count": 6,
   "metadata": {},
   "outputs": [
    {
     "name": "stdout",
     "output_type": "stream",
     "text": [
      "1\n"
     ]
    }
   ],
   "source": [
    "print(df['status'].nunique())\n",
    "cols_to_drop.append('status')"
   ]
  },
  {
   "cell_type": "code",
   "execution_count": 7,
   "metadata": {},
   "outputs": [
    {
     "name": "stdout",
     "output_type": "stream",
     "text": [
      "1\n"
     ]
    }
   ],
   "source": [
    "print(df['is_new_listing'].fillna(False).nunique())\n",
    "cols_to_drop.append('is_new_listing')"
   ]
  },
  {
   "cell_type": "code",
   "execution_count": 8,
   "metadata": {},
   "outputs": [
    {
     "name": "stdout",
     "output_type": "stream",
     "text": [
      "      baths_3qtr  baths_full  baths_half  baths ensuite\n",
      "6656         NaN         3.0         NaN    3.0     NaN\n",
      "3445         NaN         1.0         NaN    1.0     NaN\n",
      "5223         NaN         4.0         NaN    4.0     NaN\n",
      "7223         NaN         1.0         NaN    1.0     NaN\n",
      "683          NaN         3.0         NaN    3.0     NaN\n"
     ]
    }
   ],
   "source": [
    "cols = ['baths_3qtr', 'baths_full', 'baths_half', 'baths', 'ensuite'] \n",
    "print(df[cols].sample(5))\n",
    "\n",
    "cols_to_drop.extend(['baths_3qtr', 'baths_full', 'baths_half'])"
   ]
  },
  {
   "cell_type": "code",
   "execution_count": 9,
   "metadata": {},
   "outputs": [
    {
     "name": "stdout",
     "output_type": "stream",
     "text": [
      "      garage garage_1_or_more garage_2_or_more garage_3_or_more carport\n",
      "5353     1.0             True              NaN              NaN     NaN\n",
      "7415     NaN              NaN              NaN              NaN     NaN\n",
      "766      NaN              NaN              NaN              NaN     NaN\n",
      "255      NaN              NaN              NaN              NaN     NaN\n",
      "894      1.0             True              NaN              NaN     NaN\n"
     ]
    }
   ],
   "source": [
    "cols = ['garage', 'garage_1_or_more', 'garage_2_or_more', 'garage_3_or_more', 'carport']\n",
    "print(df[cols].sample(5))\n",
    "\n",
    "cols_to_drop.extend(['garage_1_or_more', 'garage_2_or_more', 'garage_3_or_more'])"
   ]
  },
  {
   "cell_type": "code",
   "execution_count": 10,
   "metadata": {},
   "outputs": [
    {
     "name": "stdout",
     "output_type": "stream",
     "text": [
      "      stories single_story two_or_more_stories\n",
      "3786      NaN          NaN                 NaN\n",
      "4369      1.0         True                 NaN\n",
      "6936      NaN          NaN                 NaN\n",
      "2906      1.0         True                 NaN\n",
      "2035      2.0          NaN                True\n"
     ]
    }
   ],
   "source": [
    "cols = ['stories', 'single_story', 'two_or_more_stories']\n",
    "print(df[cols].sample(5))\n",
    "\n",
    "cols_to_drop.extend(['single_story', 'two_or_more_stories'])"
   ]
  },
  {
   "cell_type": "code",
   "execution_count": 11,
   "metadata": {},
   "outputs": [
    {
     "name": "stdout",
     "output_type": "stream",
     "text": [
      "               type   sub_type\n",
      "1426  single_family        NaN\n",
      "5003         condos      condo\n",
      "7631  single_family        NaN\n",
      "5098  single_family        NaN\n",
      "1462      townhomes  townhouse\n"
     ]
    }
   ],
   "source": [
    "cols = ['type', 'sub_type']\n",
    "print(df[cols].sample(5))\n",
    "\n",
    "cols_to_drop.append('sub_type')"
   ]
  },
  {
   "cell_type": "code",
   "execution_count": 12,
   "metadata": {},
   "outputs": [],
   "source": [
    "cols = ['price_reduced_amount', 'is_price_reduced']\n",
    "df[cols].sample(5)\n",
    "\n",
    "cols_to_drop.append('is_price_reduced')"
   ]
  },
  {
   "cell_type": "markdown",
   "metadata": {},
   "source": [
    "We consider geographical data."
   ]
  },
  {
   "cell_type": "code",
   "execution_count": 13,
   "metadata": {},
   "outputs": [
    {
     "name": "stdout",
     "output_type": "stream",
     "text": [
      "<class 'pandas.core.frame.DataFrame'>\n",
      "RangeIndex: 8159 entries, 0 to 8158\n",
      "Data columns (total 5 columns):\n",
      " #   Column       Non-Null Count  Dtype  \n",
      "---  ------       --------------  -----  \n",
      " 0   city         8154 non-null   object \n",
      " 1   state        8159 non-null   object \n",
      " 2   postal_code  8159 non-null   int64  \n",
      " 3   lat          7909 non-null   float64\n",
      " 4   lon          7909 non-null   float64\n",
      "dtypes: float64(2), int64(1), object(2)\n",
      "memory usage: 318.8+ KB\n"
     ]
    }
   ],
   "source": [
    "cols = ['city', 'state', 'postal_code', 'lat', 'lon']\n",
    "df[cols].info()"
   ]
  },
  {
   "cell_type": "markdown",
   "metadata": {},
   "source": [
    "We keep the `city` and `postal_code` columns. "
   ]
  },
  {
   "cell_type": "code",
   "execution_count": 14,
   "metadata": {},
   "outputs": [],
   "source": [
    "cols_to_drop.extend(['state', 'lat', 'lon'])"
   ]
  },
  {
   "cell_type": "code",
   "execution_count": 15,
   "metadata": {},
   "outputs": [
    {
     "name": "stdout",
     "output_type": "stream",
     "text": [
      "      views   view  hill_or_mountain_view  city_view  big_yard  big_lot  \\\n",
      "5275  False  False                  False      False     False    False   \n",
      "7241  False  False                  False       True      True    False   \n",
      "5941  False  False                  False      False     False    False   \n",
      "1929  False  False                  False      False     False    False   \n",
      "10    False  False                  False      False     False    False   \n",
      "\n",
      "      fenced_yard  front_porch  groundscare   farm  ranch  \n",
      "5275        False        False        False   True  False  \n",
      "7241        False        False        False  False  False  \n",
      "5941         True        False        False   True   True  \n",
      "1929        False        False        False  False  False  \n",
      "10          False        False        False  False  False  \n"
     ]
    }
   ],
   "source": [
    "cols = [\n",
    "    'views', 'view', 'hill_or_mountain_view', 'city_view',\n",
    "    'big_yard', 'big_lot', 'fenced_yard', 'front_porch',\n",
    "    'groundscare', 'farm', 'ranch', \n",
    "]\n",
    "print(df[cols].fillna(False).sample(5))\n",
    "\n",
    "cols_to_drop.extend([\n",
    "    'views', 'hill_or_mountain_view', \n",
    "    'city_view', 'big_yard', 'big_lot'\n",
    "])"
   ]
  },
  {
   "cell_type": "markdown",
   "metadata": {},
   "source": [
    "#### Drop Irrelevant/Redundant Columns"
   ]
  },
  {
   "cell_type": "code",
   "execution_count": 16,
   "metadata": {},
   "outputs": [
    {
     "name": "stdout",
     "output_type": "stream",
     "text": [
      "<class 'pandas.core.frame.DataFrame'>\n",
      "RangeIndex: 8159 entries, 0 to 8158\n",
      "Data columns (total 48 columns):\n",
      " #   Column                       Non-Null Count  Dtype  \n",
      "---  ------                       --------------  -----  \n",
      " 0   price_reduced_amount         2484 non-null   float64\n",
      " 1   year_built                   7316 non-null   float64\n",
      " 2   sold_date                    8159 non-null   object \n",
      " 3   sold_price                   6716 non-null   float64\n",
      " 4   lot_sqft                     6991 non-null   float64\n",
      " 5   sqft                         7323 non-null   float64\n",
      " 6   baths                        7980 non-null   float64\n",
      " 7   garage                       4448 non-null   float64\n",
      " 8   stories                      6260 non-null   float64\n",
      " 9   beds                         7504 non-null   float64\n",
      " 10  type                         8125 non-null   object \n",
      " 11  postal_code                  8159 non-null   int64  \n",
      " 12  city                         8154 non-null   object \n",
      " 13  central_air                  4229 non-null   object \n",
      " 14  central_heat                 1496 non-null   object \n",
      " 15  fireplace                    3426 non-null   object \n",
      " 16  rental_property              901 non-null    object \n",
      " 17  community_outdoor_space      3585 non-null   object \n",
      " 18  energy_efficient             521 non-null    object \n",
      " 19  community_security_features  1615 non-null   object \n",
      " 20  recreation_facilities        1942 non-null   object \n",
      " 21  carport                      610 non-null    object \n",
      " 22  dishwasher                   3704 non-null   object \n",
      " 23  washer_dryer                 2252 non-null   object \n",
      " 24  laundry_room                 2248 non-null   object \n",
      " 25  floor_plan                   1057 non-null   object \n",
      " 26  ensuite                      711 non-null    object \n",
      " 27  shopping                     1894 non-null   object \n",
      " 28  hardwood_floors              2476 non-null   object \n",
      " 29  high_ceiling                 519 non-null    object \n",
      " 30  community_swimming_pool      779 non-null    object \n",
      " 31  modern_kitchen               579 non-null    object \n",
      " 32  open_floor_plan              607 non-null    object \n",
      " 33  fenced_yard                  1122 non-null   object \n",
      " 34  new_roof                     849 non-null    object \n",
      " 35  front_porch                  436 non-null    object \n",
      " 36  groundscare                  465 non-null    object \n",
      " 37  basement                     3363 non-null   object \n",
      " 38  updated_kitchen              792 non-null    object \n",
      " 39  corner_lot                   657 non-null    object \n",
      " 40  farm                         666 non-null    object \n",
      " 41  park                         547 non-null    object \n",
      " 42  ranch                        585 non-null    object \n",
      " 43  trails                       578 non-null    object \n",
      " 44  forced_air                   3207 non-null   object \n",
      " 45  dining_room                  1450 non-null   object \n",
      " 46  family_room                  1186 non-null   object \n",
      " 47  view                         1602 non-null   object \n",
      "dtypes: float64(9), int64(1), object(38)\n",
      "memory usage: 3.0+ MB\n"
     ]
    }
   ],
   "source": [
    "df = df.drop(columns=cols_to_drop)\n",
    "df.info()"
   ]
  },
  {
   "cell_type": "markdown",
   "metadata": {},
   "source": [
    "### Identify Rows Without Sale Price"
   ]
  },
  {
   "cell_type": "markdown",
   "metadata": {},
   "source": [
    "There are rows that are missing a sale price. As house sale price will serve as the target in the upcoming machine learning analysis, we drop the rows in question."
   ]
  },
  {
   "cell_type": "code",
   "execution_count": 17,
   "metadata": {},
   "outputs": [],
   "source": [
    "filter = df['sold_price'].isna()\n",
    "rows_to_drop = df.loc[filter, :].index.to_list()"
   ]
  },
  {
   "cell_type": "markdown",
   "metadata": {},
   "source": [
    "#### Drop Rows Without Sale Price"
   ]
  },
  {
   "cell_type": "code",
   "execution_count": 18,
   "metadata": {},
   "outputs": [],
   "source": [
    "df = df.drop(index=rows_to_drop)"
   ]
  },
  {
   "cell_type": "markdown",
   "metadata": {},
   "source": [
    "### Identify Imputation Methods"
   ]
  },
  {
   "cell_type": "markdown",
   "metadata": {},
   "source": [
    "Most columns are missing values. For each, we identify the most appropriate method for filling in the missing values."
   ]
  },
  {
   "cell_type": "markdown",
   "metadata": {},
   "source": [
    "The following columns should be imputed with `0`:"
   ]
  },
  {
   "cell_type": "code",
   "execution_count": 19,
   "metadata": {},
   "outputs": [],
   "source": [
    "na_to_zero = ['price_reduced_amount', 'garage']"
   ]
  },
  {
   "cell_type": "markdown",
   "metadata": {},
   "source": [
    "The following columns shoud be imputed with `False`:"
   ]
  },
  {
   "cell_type": "code",
   "execution_count": 20,
   "metadata": {},
   "outputs": [
    {
     "data": {
      "text/plain": [
       "['central_air',\n",
       " 'central_heat',\n",
       " 'fireplace',\n",
       " 'rental_property',\n",
       " 'community_outdoor_space',\n",
       " 'energy_efficient',\n",
       " 'community_security_features',\n",
       " 'recreation_facilities',\n",
       " 'carport',\n",
       " 'dishwasher',\n",
       " 'washer_dryer',\n",
       " 'laundry_room',\n",
       " 'floor_plan',\n",
       " 'ensuite',\n",
       " 'shopping',\n",
       " 'hardwood_floors',\n",
       " 'high_ceiling',\n",
       " 'community_swimming_pool',\n",
       " 'modern_kitchen',\n",
       " 'open_floor_plan',\n",
       " 'fenced_yard',\n",
       " 'new_roof',\n",
       " 'front_porch',\n",
       " 'groundscare',\n",
       " 'basement',\n",
       " 'updated_kitchen',\n",
       " 'corner_lot',\n",
       " 'farm',\n",
       " 'park',\n",
       " 'ranch',\n",
       " 'trails',\n",
       " 'forced_air',\n",
       " 'dining_room',\n",
       " 'family_room',\n",
       " 'view']"
      ]
     },
     "execution_count": 20,
     "metadata": {},
     "output_type": "execute_result"
    }
   ],
   "source": [
    "columns_list = df.columns.to_list()\n",
    "central_air_idx = columns_list.index('central_air')\n",
    "na_to_false = columns_list[central_air_idx:]\n",
    "na_to_false"
   ]
  },
  {
   "cell_type": "markdown",
   "metadata": {},
   "source": [
    "The following columns should be imputed with median values:"
   ]
  },
  {
   "cell_type": "code",
   "execution_count": 21,
   "metadata": {},
   "outputs": [],
   "source": [
    "na_to_median = ['lot_sqft', 'sqft']"
   ]
  },
  {
   "cell_type": "markdown",
   "metadata": {},
   "source": [
    "The following columns should be imputed with modes:"
   ]
  },
  {
   "cell_type": "code",
   "execution_count": 22,
   "metadata": {},
   "outputs": [],
   "source": [
    "na_to_mode = ['year_built', 'baths', 'stories', 'beds', 'type']"
   ]
  },
  {
   "cell_type": "markdown",
   "metadata": {},
   "source": [
    "The following columns should be imputed with a city:"
   ]
  },
  {
   "cell_type": "code",
   "execution_count": 23,
   "metadata": {},
   "outputs": [],
   "source": [
    "na_to_city = ['city']"
   ]
  },
  {
   "cell_type": "code",
   "execution_count": 24,
   "metadata": {},
   "outputs": [
    {
     "data": {
      "text/html": [
       "<div>\n",
       "<style scoped>\n",
       "    .dataframe tbody tr th:only-of-type {\n",
       "        vertical-align: middle;\n",
       "    }\n",
       "\n",
       "    .dataframe tbody tr th {\n",
       "        vertical-align: top;\n",
       "    }\n",
       "\n",
       "    .dataframe thead th {\n",
       "        text-align: right;\n",
       "    }\n",
       "</style>\n",
       "<table border=\"1\" class=\"dataframe\">\n",
       "  <thead>\n",
       "    <tr style=\"text-align: right;\">\n",
       "      <th></th>\n",
       "      <th>city</th>\n",
       "      <th>postal_code</th>\n",
       "    </tr>\n",
       "  </thead>\n",
       "  <tbody>\n",
       "    <tr>\n",
       "      <th>391</th>\n",
       "      <td>NaN</td>\n",
       "      <td>43235</td>\n",
       "    </tr>\n",
       "    <tr>\n",
       "      <th>3045</th>\n",
       "      <td>NaN</td>\n",
       "      <td>43235</td>\n",
       "    </tr>\n",
       "    <tr>\n",
       "      <th>4779</th>\n",
       "      <td>NaN</td>\n",
       "      <td>43235</td>\n",
       "    </tr>\n",
       "    <tr>\n",
       "      <th>6107</th>\n",
       "      <td>NaN</td>\n",
       "      <td>43235</td>\n",
       "    </tr>\n",
       "    <tr>\n",
       "      <th>7148</th>\n",
       "      <td>NaN</td>\n",
       "      <td>43235</td>\n",
       "    </tr>\n",
       "  </tbody>\n",
       "</table>\n",
       "</div>"
      ],
      "text/plain": [
       "     city  postal_code\n",
       "391   NaN        43235\n",
       "3045  NaN        43235\n",
       "4779  NaN        43235\n",
       "6107  NaN        43235\n",
       "7148  NaN        43235"
      ]
     },
     "execution_count": 24,
     "metadata": {},
     "output_type": "execute_result"
    }
   ],
   "source": [
    "df[df['city'].isna()][['city', 'postal_code']]"
   ]
  },
  {
   "cell_type": "markdown",
   "metadata": {},
   "source": [
    "There are only five rows missing a city. They all have the same postal code, 43235. This postal code serves Columbus, OH. (Note that, if cities corresponding to many postal codes were missing, it would be worth using an API to fill in the missing values. But, for one missing city, this would be way too much work.)"
   ]
  },
  {
   "cell_type": "markdown",
   "metadata": {},
   "source": [
    "#### Implement Imputations"
   ]
  },
  {
   "cell_type": "code",
   "execution_count": 25,
   "metadata": {},
   "outputs": [
    {
     "name": "stdout",
     "output_type": "stream",
     "text": [
      "<class 'pandas.core.frame.DataFrame'>\n",
      "Index: 6716 entries, 0 to 8158\n",
      "Data columns (total 48 columns):\n",
      " #   Column                       Non-Null Count  Dtype  \n",
      "---  ------                       --------------  -----  \n",
      " 0   price_reduced_amount         6716 non-null   float64\n",
      " 1   year_built                   6716 non-null   float64\n",
      " 2   sold_date                    6716 non-null   object \n",
      " 3   sold_price                   6716 non-null   float64\n",
      " 4   lot_sqft                     6716 non-null   float64\n",
      " 5   sqft                         6716 non-null   float64\n",
      " 6   baths                        6716 non-null   float64\n",
      " 7   garage                       6716 non-null   float64\n",
      " 8   stories                      6716 non-null   float64\n",
      " 9   beds                         6716 non-null   float64\n",
      " 10  type                         6716 non-null   object \n",
      " 11  postal_code                  6716 non-null   int64  \n",
      " 12  city                         6716 non-null   object \n",
      " 13  central_air                  6716 non-null   bool   \n",
      " 14  central_heat                 6716 non-null   bool   \n",
      " 15  fireplace                    6716 non-null   bool   \n",
      " 16  rental_property              6716 non-null   bool   \n",
      " 17  community_outdoor_space      6716 non-null   bool   \n",
      " 18  energy_efficient             6716 non-null   bool   \n",
      " 19  community_security_features  6716 non-null   bool   \n",
      " 20  recreation_facilities        6716 non-null   bool   \n",
      " 21  carport                      6716 non-null   bool   \n",
      " 22  dishwasher                   6716 non-null   bool   \n",
      " 23  washer_dryer                 6716 non-null   bool   \n",
      " 24  laundry_room                 6716 non-null   bool   \n",
      " 25  floor_plan                   6716 non-null   bool   \n",
      " 26  ensuite                      6716 non-null   bool   \n",
      " 27  shopping                     6716 non-null   bool   \n",
      " 28  hardwood_floors              6716 non-null   bool   \n",
      " 29  high_ceiling                 6716 non-null   bool   \n",
      " 30  community_swimming_pool      6716 non-null   bool   \n",
      " 31  modern_kitchen               6716 non-null   bool   \n",
      " 32  open_floor_plan              6716 non-null   bool   \n",
      " 33  fenced_yard                  6716 non-null   bool   \n",
      " 34  new_roof                     6716 non-null   bool   \n",
      " 35  front_porch                  6716 non-null   bool   \n",
      " 36  groundscare                  6716 non-null   bool   \n",
      " 37  basement                     6716 non-null   bool   \n",
      " 38  updated_kitchen              6716 non-null   bool   \n",
      " 39  corner_lot                   6716 non-null   bool   \n",
      " 40  farm                         6716 non-null   bool   \n",
      " 41  park                         6716 non-null   bool   \n",
      " 42  ranch                        6716 non-null   bool   \n",
      " 43  trails                       6716 non-null   bool   \n",
      " 44  forced_air                   6716 non-null   bool   \n",
      " 45  dining_room                  6716 non-null   bool   \n",
      " 46  family_room                  6716 non-null   bool   \n",
      " 47  view                         6716 non-null   bool   \n",
      "dtypes: bool(35), float64(9), int64(1), object(3)\n",
      "memory usage: 964.1+ KB\n"
     ]
    }
   ],
   "source": [
    "for c in na_to_zero:\n",
    "    df[c] = df[c].fillna(0)\n",
    "\n",
    "for c in na_to_false:\n",
    "    df[c] = df[c].fillna(False)\n",
    "\n",
    "for c in na_to_median:\n",
    "    df[c] = df[c].fillna(df[c].median())\n",
    "\n",
    "for c in na_to_mode:\n",
    "    df[c] = df[c].fillna(df[c].mode()[0])\n",
    "\n",
    "for c in na_to_city:\n",
    "    df[c] = df[c].fillna('Columbus')\n",
    "\n",
    "df.info()"
   ]
  },
  {
   "cell_type": "markdown",
   "metadata": {},
   "source": [
    "### Identify Structural Errors"
   ]
  },
  {
   "cell_type": "code",
   "execution_count": 26,
   "metadata": {},
   "outputs": [
    {
     "data": {
      "text/plain": [
       "type\n",
       "single_family                  4534\n",
       "condos                          656\n",
       "townhomes                       486\n",
       "multi_family                    486\n",
       "land                            316\n",
       "mobile                          146\n",
       "condo                            52\n",
       "apartment                        20\n",
       "other                            10\n",
       "duplex_triplex                    5\n",
       "condo_townhome_rowhome_coop       5\n",
       "Name: count, dtype: int64"
      ]
     },
     "execution_count": 26,
     "metadata": {},
     "output_type": "execute_result"
    }
   ],
   "source": [
    "df['type'].value_counts()"
   ]
  },
  {
   "cell_type": "markdown",
   "metadata": {},
   "source": [
    "There are a few replacements we make to this column of categorical data, merging some categories."
   ]
  },
  {
   "cell_type": "code",
   "execution_count": 27,
   "metadata": {},
   "outputs": [],
   "source": [
    "to_replace = {\n",
    "    'condos': 'condo',\n",
    "    'townhomes': 'townhome',\n",
    "    'apartment': 'condo',\n",
    "    'duplex_triplex': 'other',\n",
    "    'condo_townhome_rowhome_coop': 'other'\n",
    "}"
   ]
  },
  {
   "cell_type": "markdown",
   "metadata": {},
   "source": [
    "#### Implement Structural Error Fixes"
   ]
  },
  {
   "cell_type": "code",
   "execution_count": 28,
   "metadata": {},
   "outputs": [
    {
     "data": {
      "text/plain": [
       "type\n",
       "single_family    4534\n",
       "condo             728\n",
       "townhome          486\n",
       "multi_family      486\n",
       "land              316\n",
       "mobile            146\n",
       "other              20\n",
       "Name: count, dtype: int64"
      ]
     },
     "execution_count": 28,
     "metadata": {},
     "output_type": "execute_result"
    }
   ],
   "source": [
    "df['type'].replace(to_replace=to_replace).value_counts()"
   ]
  },
  {
   "cell_type": "markdown",
   "metadata": {},
   "source": [
    "### Identify Suitable dtypes"
   ]
  },
  {
   "cell_type": "markdown",
   "metadata": {},
   "source": [
    "There are a few columns whose dtypes should be updated."
   ]
  },
  {
   "cell_type": "code",
   "execution_count": 29,
   "metadata": {},
   "outputs": [],
   "source": [
    "to_int_cols = ['year_built', 'baths', 'garage', 'stories', 'beds']\n",
    "to_category_cols = 'type'\n",
    "to_date_cols = 'sold_date'"
   ]
  },
  {
   "cell_type": "markdown",
   "metadata": {},
   "source": [
    "#### Implement dtype Changes"
   ]
  },
  {
   "cell_type": "code",
   "execution_count": 30,
   "metadata": {},
   "outputs": [],
   "source": [
    "df[to_int_cols] = df[to_int_cols].astype('int')\n",
    "df[to_category_cols] = df[to_category_cols].astype('category')\n",
    "df[to_date_cols] = pd.to_datetime(df[to_date_cols], format='%Y-%m-%d')"
   ]
  },
  {
   "cell_type": "code",
   "execution_count": 31,
   "metadata": {},
   "outputs": [
    {
     "name": "stdout",
     "output_type": "stream",
     "text": [
      "<class 'pandas.core.frame.DataFrame'>\n",
      "Index: 6716 entries, 0 to 8158\n",
      "Data columns (total 48 columns):\n",
      " #   Column                       Non-Null Count  Dtype         \n",
      "---  ------                       --------------  -----         \n",
      " 0   price_reduced_amount         6716 non-null   float64       \n",
      " 1   year_built                   6716 non-null   int64         \n",
      " 2   sold_date                    6716 non-null   datetime64[ns]\n",
      " 3   sold_price                   6716 non-null   float64       \n",
      " 4   lot_sqft                     6716 non-null   float64       \n",
      " 5   sqft                         6716 non-null   float64       \n",
      " 6   baths                        6716 non-null   int64         \n",
      " 7   garage                       6716 non-null   int64         \n",
      " 8   stories                      6716 non-null   int64         \n",
      " 9   beds                         6716 non-null   int64         \n",
      " 10  type                         6716 non-null   category      \n",
      " 11  postal_code                  6716 non-null   int64         \n",
      " 12  city                         6716 non-null   object        \n",
      " 13  central_air                  6716 non-null   bool          \n",
      " 14  central_heat                 6716 non-null   bool          \n",
      " 15  fireplace                    6716 non-null   bool          \n",
      " 16  rental_property              6716 non-null   bool          \n",
      " 17  community_outdoor_space      6716 non-null   bool          \n",
      " 18  energy_efficient             6716 non-null   bool          \n",
      " 19  community_security_features  6716 non-null   bool          \n",
      " 20  recreation_facilities        6716 non-null   bool          \n",
      " 21  carport                      6716 non-null   bool          \n",
      " 22  dishwasher                   6716 non-null   bool          \n",
      " 23  washer_dryer                 6716 non-null   bool          \n",
      " 24  laundry_room                 6716 non-null   bool          \n",
      " 25  floor_plan                   6716 non-null   bool          \n",
      " 26  ensuite                      6716 non-null   bool          \n",
      " 27  shopping                     6716 non-null   bool          \n",
      " 28  hardwood_floors              6716 non-null   bool          \n",
      " 29  high_ceiling                 6716 non-null   bool          \n",
      " 30  community_swimming_pool      6716 non-null   bool          \n",
      " 31  modern_kitchen               6716 non-null   bool          \n",
      " 32  open_floor_plan              6716 non-null   bool          \n",
      " 33  fenced_yard                  6716 non-null   bool          \n",
      " 34  new_roof                     6716 non-null   bool          \n",
      " 35  front_porch                  6716 non-null   bool          \n",
      " 36  groundscare                  6716 non-null   bool          \n",
      " 37  basement                     6716 non-null   bool          \n",
      " 38  updated_kitchen              6716 non-null   bool          \n",
      " 39  corner_lot                   6716 non-null   bool          \n",
      " 40  farm                         6716 non-null   bool          \n",
      " 41  park                         6716 non-null   bool          \n",
      " 42  ranch                        6716 non-null   bool          \n",
      " 43  trails                       6716 non-null   bool          \n",
      " 44  forced_air                   6716 non-null   bool          \n",
      " 45  dining_room                  6716 non-null   bool          \n",
      " 46  family_room                  6716 non-null   bool          \n",
      " 47  view                         6716 non-null   bool          \n",
      "dtypes: bool(35), category(1), datetime64[ns](1), float64(4), int64(6), object(1)\n",
      "memory usage: 918.6+ KB\n"
     ]
    }
   ],
   "source": [
    "df.info()"
   ]
  },
  {
   "cell_type": "markdown",
   "metadata": {},
   "source": [
    "## Feature Engineering"
   ]
  },
  {
   "cell_type": "markdown",
   "metadata": {},
   "source": [
    "We notice that there are a few colletions of features that perhaps make most sense merged (using 'or') into a combined feature."
   ]
  },
  {
   "cell_type": "code",
   "execution_count": 32,
   "metadata": {},
   "outputs": [],
   "source": [
    "df = df\\\n",
    "    .pipe(or_merge, \n",
    "          ['community_outdoor_space', 'park', 'trails'], \n",
    "          'near_outdoors')\\\n",
    "    .pipe(or_merge, \n",
    "          ['recreation_facilities', 'community_swimming_pool'], \n",
    "          'near_rec_facilities')\\\n",
    "    .pipe(or_merge, \n",
    "          ['updated_kitchen', 'modern_kitchen'], \n",
    "          'fancy_kitchen')"
   ]
  },
  {
   "cell_type": "markdown",
   "metadata": {},
   "source": [
    "Consider the fact that with tags, there are a lot of categorical variables.\n",
    "- How many columns would we have if we OHE tags, city and state?\n",
    "- Perhaps we can get rid of tags that have a low frequency."
   ]
  },
  {
   "cell_type": "code",
   "execution_count": 33,
   "metadata": {},
   "outputs": [],
   "source": [
    "# OHE categorical variables here\n",
    "# tags will have to be done manually"
   ]
  },
  {
   "cell_type": "markdown",
   "metadata": {},
   "source": [
    "- Sales will vary drastically between cities and states.  Is there a way to keep information about which city it is without OHE such as using central tendency?\n",
    "- Could we label encode or ordinal encode?  Yes, but this may have undesirable effects, giving nominal data ordinal values.\n",
    "- If you replace cities or states with numerical values, make sure that the data is split so that we don't leak data into the training selection. This is a great time to train test split. Compute on the training data, and join these values to the test data\n",
    "- Drop columns that aren't needed.\n",
    "- Don't keep the list price because it will be too close to the sale price."
   ]
  },
  {
   "cell_type": "code",
   "execution_count": 34,
   "metadata": {},
   "outputs": [],
   "source": [
    "# perform train test split here\n",
    "# do something with state and city\n",
    "# drop any other not needed columns"
   ]
  },
  {
   "cell_type": "markdown",
   "metadata": {},
   "source": [
    "**STRETCH**\n",
    "\n",
    "- You're not limited to just using the data provided to you. Think/ do some research about other features that might be useful to predict housing prices. \n",
    "- Can you import and join this data? Make sure you do any necessary preprocessing and make sure it is joined correctly.\n",
    "- Example suggestion: could mortgage interest rates in the year of the listing affect the price? "
   ]
  },
  {
   "cell_type": "code",
   "execution_count": 35,
   "metadata": {},
   "outputs": [],
   "source": [
    "# import, join and preprocess new data here"
   ]
  },
  {
   "cell_type": "markdown",
   "metadata": {},
   "source": [
    "Remember all of the EDA that you've been learning about?  Now is a perfect time for it!\n",
    "- Look at distributions of numerical variables to see the shape of the data and detect outliers.\n",
    "- Scatterplots of a numerical variable and the target go a long way to show correlations.\n",
    "- A heatmap will help detect highly correlated features, and we don't want these.\n",
    "- Is there any overlap in any of the features? (redundant information, like number of this or that room...)"
   ]
  },
  {
   "cell_type": "code",
   "execution_count": 36,
   "metadata": {},
   "outputs": [],
   "source": [
    "# perform EDA here"
   ]
  },
  {
   "cell_type": "markdown",
   "metadata": {},
   "source": [
    "Now is a great time to scale the data and save it once it's preprocessed.\n",
    "- You can save it in your data folder, but you may want to make a new `processed/` subfolder to keep it organized"
   ]
  },
  {
   "cell_type": "code",
   "execution_count": null,
   "metadata": {},
   "outputs": [],
   "source": []
  }
 ],
 "metadata": {
  "kernelspec": {
   "display_name": "data-science",
   "language": "python",
   "name": "data-science"
  },
  "language_info": {
   "codemirror_mode": {
    "name": "ipython",
    "version": 3
   },
   "file_extension": ".py",
   "mimetype": "text/x-python",
   "name": "python",
   "nbconvert_exporter": "python",
   "pygments_lexer": "ipython3",
   "version": "3.12.2"
  }
 },
 "nbformat": 4,
 "nbformat_minor": 4
}
