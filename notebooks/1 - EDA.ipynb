{
 "cells": [
  {
   "cell_type": "markdown",
   "metadata": {},
   "source": [
    "\n",
    "- The os module has a perfect method to list files in a directory.\n",
    "- Pandas json normalize could work here but is not necessary to convert the JSON data to a dataframe.\n",
    "- You may need a nested for-loop to access each sale!\n",
    "- We've put a lot of time into creating the structure of this repository, and it's a good example for future projects.  In the file functions_variables.py, there is an example function that you can import and use.  If you have any variables, functions or classes that you want to make, they can be put in the functions_variables.py file and imported into a notebook.  Note that only .py files can be imported into a notebook. If you want to import everything from a .py file, you can use the following:\n",
    "```python\n",
    "from functions_variables import *\n",
    "```\n",
    "If you just import functions_variables, then each object from the file will need to be prepended with \"functions_variables\"\\\n",
    "Using this .py file will keep your notebooks very organized and make it easier to reuse code between notebooks."
   ]
  },
  {
   "cell_type": "code",
   "execution_count": 3,
   "metadata": {},
   "outputs": [],
   "source": [
    "# (this is not an exhaustive list of libraries)\n",
    "import pandas as pd\n",
    "import numpy as np\n",
    "import os\n",
    "import json\n",
    "from pprint import pprint\n",
    "from functions_variables import encode_tags\n",
    "import seaborn as sns"
   ]
  },
  {
   "cell_type": "code",
   "execution_count": 3,
   "metadata": {},
   "outputs": [],
   "source": [
    "# load one file first to see what type of data you're dealing with and what attributes it has"
   ]
  },
  {
   "cell_type": "markdown",
   "metadata": {},
   "source": [
    "At this point, ensure that you have all sales in a dataframe.\n",
    "- Is each cell one value, or do some cells have lists?\n",
    "- Maybe the \"tags\" will help create some features.\n",
    "- What are the data types of each column?\n",
    "- Some sales may not actually include the sale price.  These rows should be dropped.\n",
    "- Some sales don't include the property type.\n",
    "- There are a lot of None values.  Should these be dropped or replaced with something?"
   ]
  },
  {
   "cell_type": "code",
   "execution_count": 15,
   "metadata": {},
   "outputs": [
    {
     "name": "stdout",
     "output_type": "stream",
     "text": [
      "<class 'pandas.core.frame.DataFrame'>\n",
      "RangeIndex: 6716 entries, 0 to 6715\n",
      "Data columns (total 41 columns):\n",
      " #   Column                       Non-Null Count  Dtype  \n",
      "---  ------                       --------------  -----  \n",
      " 0   year_built                   6716 non-null   int64  \n",
      " 1   sold_date                    6716 non-null   object \n",
      " 2   sold_price                   6716 non-null   float64\n",
      " 3   lot_sqft                     6716 non-null   float64\n",
      " 4   sqft                         6716 non-null   float64\n",
      " 5   baths                        6716 non-null   int64  \n",
      " 6   garage                       6716 non-null   int64  \n",
      " 7   stories                      6716 non-null   int64  \n",
      " 8   beds                         6716 non-null   int64  \n",
      " 9   type                         6716 non-null   object \n",
      " 10  postal_code                  6716 non-null   int64  \n",
      " 11  central_air                  6716 non-null   int64  \n",
      " 12  central_heat                 6716 non-null   int64  \n",
      " 13  fireplace                    6716 non-null   int64  \n",
      " 14  rental_property              6716 non-null   int64  \n",
      " 15  energy_efficient             6716 non-null   int64  \n",
      " 16  community_security_features  6716 non-null   int64  \n",
      " 17  carport                      6716 non-null   int64  \n",
      " 18  dishwasher                   6716 non-null   int64  \n",
      " 19  floor_plan                   6716 non-null   int64  \n",
      " 20  ensuite                      6716 non-null   int64  \n",
      " 21  shopping                     6716 non-null   int64  \n",
      " 22  hardwood_floors              6716 non-null   int64  \n",
      " 23  high_ceiling                 6716 non-null   int64  \n",
      " 24  open_floor_plan              6716 non-null   int64  \n",
      " 25  fenced_yard                  6716 non-null   int64  \n",
      " 26  new_roof                     6716 non-null   int64  \n",
      " 27  front_porch                  6716 non-null   int64  \n",
      " 28  groundscare                  6716 non-null   int64  \n",
      " 29  basement                     6716 non-null   int64  \n",
      " 30  corner_lot                   6716 non-null   int64  \n",
      " 31  farm                         6716 non-null   int64  \n",
      " 32  ranch                        6716 non-null   int64  \n",
      " 33  forced_air                   6716 non-null   int64  \n",
      " 34  dining_room                  6716 non-null   int64  \n",
      " 35  family_room                  6716 non-null   int64  \n",
      " 36  view                         6716 non-null   int64  \n",
      " 37  near_outdoors                6716 non-null   int64  \n",
      " 38  near_rec_facilities          6716 non-null   int64  \n",
      " 39  fancy_kitchen                6716 non-null   int64  \n",
      " 40  laundry                      6716 non-null   int64  \n",
      "dtypes: float64(3), int64(36), object(2)\n",
      "memory usage: 2.1+ MB\n"
     ]
    }
   ],
   "source": [
    "# load and concatenate data here\n",
    "# added by Derek\n",
    "df = pd.read_csv('../data/processed/housing_data_1.csv', sep=',')\n",
    "df.info()\n"
   ]
  },
  {
   "cell_type": "markdown",
   "metadata": {},
   "source": []
  },
  {
   "cell_type": "markdown",
   "metadata": {},
   "source": [
    "Consider the fact that with tags, there are a lot of categorical variables.\n",
    "- How many columns would we have if we OHE tags, city and state?\n",
    "- Perhaps we can get rid of tags that have a low frequency."
   ]
  },
  {
   "cell_type": "markdown",
   "metadata": {},
   "source": [
    "- Sales will vary drastically between cities and states.  Is there a way to keep information about which city it is without OHE such as using central tendency?\n",
    "- Could we label encode or ordinal encode?  Yes, but this may have undesirable effects, giving nominal data ordinal values.\n",
    "- If you replace cities or states with numerical values, make sure that the data is split so that we don't leak data into the training selection. This is a great time to train test split. Compute on the training data, and join these values to the test data\n",
    "- Drop columns that aren't needed.\n",
    "- Don't keep the list price because it will be too close to the sale price."
   ]
  },
  {
   "cell_type": "code",
   "execution_count": null,
   "metadata": {},
   "outputs": [],
   "source": [
    "# perform train test split here\n",
    "# do something with state and city\n",
    "# drop any other not needed columns"
   ]
  },
  {
   "cell_type": "markdown",
   "metadata": {},
   "source": [
    "**STRETCH**\n",
    "\n",
    "- You're not limited to just using the data provided to you. Think/ do some research about other features that might be useful to predict housing prices. \n",
    "- Can you import and join this data? Make sure you do any necessary preprocessing and make sure it is joined correctly.\n",
    "- Example suggestion: could mortgage interest rates in the year of the listing affect the price? "
   ]
  },
  {
   "cell_type": "code",
   "execution_count": null,
   "metadata": {},
   "outputs": [],
   "source": [
    "# import, join and preprocess new data here"
   ]
  },
  {
   "cell_type": "markdown",
   "metadata": {},
   "source": [
    "Remember all of the EDA that you've been learning about?  Now is a perfect time for it!\n",
    "- Look at distributions of numerical variables to see the shape of the data and detect outliers.\n",
    "- Scatterplots of a numerical variable and the target go a long way to show correlations.\n",
    "- A heatmap will help detect highly correlated features, and we don't want these.\n",
    "- Is there any overlap in any of the features? (redundant information, like number of this or that room...)"
   ]
  },
  {
   "cell_type": "code",
   "execution_count": null,
   "metadata": {},
   "outputs": [],
   "source": [
    "# perform EDA here"
   ]
  },
  {
   "cell_type": "markdown",
   "metadata": {},
   "source": [
    "Now is a great time to scale the data and save it once it's preprocessed.\n",
    "- You can save it in your data folder, but you may want to make a new `processed/` subfolder to keep it organized"
   ]
  },
  {
   "cell_type": "code",
   "execution_count": null,
   "metadata": {},
   "outputs": [],
   "source": []
  }
 ],
 "metadata": {
  "kernelspec": {
   "display_name": "Python 3 (ipykernel)",
   "language": "python",
   "name": "python3"
  },
  "language_info": {
   "codemirror_mode": {
    "name": "ipython",
    "version": 3
   },
   "file_extension": ".py",
   "mimetype": "text/x-python",
   "name": "python",
   "nbconvert_exporter": "python",
   "pygments_lexer": "ipython3",
   "version": "3.11.7"
  }
 },
 "nbformat": 4,
 "nbformat_minor": 4
}
